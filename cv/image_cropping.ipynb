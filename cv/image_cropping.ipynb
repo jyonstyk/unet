{
 "cells": [
  {
   "cell_type": "code",
   "execution_count": null,
   "metadata": {},
   "outputs": [],
   "source": [
    "import os\n",
    "import glob\n",
    "import cv2\n",
    "import numpy as np\n",
    "import cv2\n",
    "from itertools import chain\n",
    "import random\n",
    "import pandas as pd\n",
    "import matplotlib.pyplot as plt"
   ]
  },
  {
   "cell_type": "code",
   "execution_count": null,
   "metadata": {},
   "outputs": [],
   "source": [
    "# file searching\n",
    "x_image_names_from = \"../data/*/190319-Nuc-EM/*.tif\"\n",
    "y_image_names_from = \"../data/*/190319-Nuc-Label-Binary/*.tif\"\n",
    "\n",
    "x_image_names = glob.glob(x_image_names_from)\n",
    "y_image_names = glob.glob(y_image_names_from)\n",
    "\n",
    "# file reading \n",
    "x = np.array([cv2.imread(x,0)for x in np.sort(x_image_names)])\n",
    "y = np.array([cv2.imread(y,0)for y in np.sort(y_image_names)])"
   ]
  },
  {
   "cell_type": "code",
   "execution_count": null,
   "metadata": {},
   "outputs": [],
   "source": [
    "# binning x and y() いる？\n",
    "bin_ratio = 2\n",
    "x = np.array([cv2.resize(x_slice,(x.shape[2]//bin_ratio,x.shape[1]//bin_ratio)) for x_slice in x]) # binning x\n",
    "y = np.array([cv2.resize(y_slice,(y.shape[2]//bin_ratio,y.shape[1]//bin_ratio)) for y_slice in y]) # binning y\n",
    "# 各種変数の定義\n",
    "one_page_size = 256\n",
    "input_pages = x.shape[0] # 画像枚数\n",
    "image_height = y.shape[1]\n",
    "image_width = y.shape[2]"
   ]
  },
  {
   "cell_type": "code",
   "execution_count": null,
   "metadata": {
    "scrolled": true
   },
   "outputs": [],
   "source": [
    "# ラベルのある部分の周り128マスだけ取ってくる処理\n",
    "\n",
    "# 輪郭抽出\n",
    "contours = [cv2.findContours(y_slice,cv2.RETR_TREE,cv2.CHAIN_APPROX_SIMPLE)[0] for y_slice in y] # 各画像ごとのラベルの輪郭\n",
    "contours_count = [np.shape(contour)[0] for contour in contours] # 一枚の中の物体数\n",
    "\n",
    "# 輪郭の平坦化(１つの画像に複数の輪郭が含まれている場合別々にカウント)\n",
    "contours_flatten_page_index = list(chain.from_iterable([np.ones(c,dtype=\"int8\")*i for i,c in enumerate(contours_count)]))\n",
    "contours_flatten_label_index = list(chain.from_iterable([np.arange(0,c) for c in contours_count]))\n",
    "rects_flatten = [cv2.boundingRect(contours[p][l]) for p,l in zip(contours_flatten_page_index,contours_flatten_label_index)]\n",
    "\n",
    "# 大きすぎる輪郭を除外\n",
    "suitable_size_index = [n for n,rect in enumerate(rects_flatten) if rect[2] < one_page_size and rect[3] < one_page_size]\n",
    "contours_flatten_page_index_filt = [contours_flatten_page_index[s] for s in suitable_size_index]\n",
    "contours_flatten_label_index_filt = [contours_flatten_label_index[s] for s in suitable_size_index]\n",
    "rects_flatten_filt = [rects_flatten[s] for s in suitable_size_index]\n",
    "\n",
    "# 各輪郭の罫線からの距離を計算\n",
    "\n",
    "dist_from_border = [\n",
    "    (min(x,one_page_size-w),min(image_width-x-w,one_page_size-w),min(y,one_page_size-h),min(image_height-y-h,one_page_size-h),x,y) for x,y,w,h in rects_flatten_filt]\n",
    "# 罫線に切り取り範囲が被らないようにランダムに切り取りサイズを設定\n",
    "crop_area_upper_left = [\n",
    "    (random.randint(x-left,x+min(right-left,0)),random.randint(y-up,y+min(down-up,0))) for left,right,up,down,x,y in dist_from_border]\n",
    "\n",
    "# 画像の切り取り\n",
    "x_crop = np.array([x[contours_flatten_page_index_filt[n],u:u+one_page_size,l:l+one_page_size] for n,(l,u) in enumerate(crop_area_upper_left)])\n",
    "y_crop = np.array([y[contours_flatten_page_index_filt[n],u:u+one_page_size,l:l+one_page_size] for n,(l,u) in enumerate(crop_area_upper_left)])\n",
    "crop_count = x_crop.shape[0]\n"
   ]
  },
  {
   "cell_type": "code",
   "execution_count": null,
   "metadata": {},
   "outputs": [],
   "source": [
    "os.makedirs(\"../temp\",exist_ok=True)\n",
    "np.save(\"../temp/x_crop\",x_crop)\n",
    "np.save(\"../temp/y_crop\",y_crop)"
   ]
  },
  {
   "cell_type": "code",
   "execution_count": null,
   "metadata": {},
   "outputs": [],
   "source": []
  },
  {
   "cell_type": "code",
   "execution_count": null,
   "metadata": {},
   "outputs": [],
   "source": []
  },
  {
   "cell_type": "code",
   "execution_count": null,
   "metadata": {},
   "outputs": [],
   "source": []
  },
  {
   "cell_type": "code",
   "execution_count": null,
   "metadata": {},
   "outputs": [],
   "source": []
  },
  {
   "cell_type": "code",
   "execution_count": null,
   "metadata": {},
   "outputs": [],
   "source": []
  }
 ],
 "metadata": {
  "kernelspec": {
   "display_name": "Python 3",
   "language": "python",
   "name": "python3"
  },
  "language_info": {
   "codemirror_mode": {
    "name": "ipython",
    "version": 3
   },
   "file_extension": ".py",
   "mimetype": "text/x-python",
   "name": "python",
   "nbconvert_exporter": "python",
   "pygments_lexer": "ipython3",
   "version": "3.7.4"
  }
 },
 "nbformat": 4,
 "nbformat_minor": 2
}
